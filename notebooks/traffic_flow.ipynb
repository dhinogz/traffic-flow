{
 "cells": [
  {
   "cell_type": "code",
   "execution_count": null,
   "metadata": {},
   "outputs": [],
   "source": [
    "# Model design\n",
    "import agentpy as ap\n",
    "\n",
    "# Visualization\n",
    "import matplotlib.pyplot as plt\n",
    "import seaborn as sns\n",
    "import IPython"
   ]
  },
  {
   "cell_type": "code",
   "execution_count": null,
   "metadata": {},
   "outputs": [],
   "source": [
    "class Car(ap.Agent):\n",
    "\n",
    "    def setup(self):\n",
    "\n",
    "        self.velocity = 0\n",
    "        self.acceleration = 0\n",
    "        self.pos_x = 0\n",
    "        self.pos_z = 0\n",
    "        self.close_car = False\n",
    "\n",
    "    def setup_pos(self, grid):\n",
    "\n",
    "        self.grid = grid\n",
    "        self.neighbors = grid.neighbors\n",
    "        self.pos = grid.positions[self]\n",
    "\n",
    "    def update_velocity(self):\n",
    "        \"\"\"Update a car velocity depending on different parameters in object instance\"\"\"\n",
    "        pass\n",
    "\n",
    "    def update_position(self):\n",
    "\n",
    "        self.grid.move_by(self, self.velocity)\n"
   ]
  },
  {
   "cell_type": "code",
   "execution_count": null,
   "metadata": {},
   "outputs": [],
   "source": [
    "class MergeCar(ap.Agent):\n",
    "    pass"
   ]
  },
  {
   "cell_type": "code",
   "execution_count": null,
   "metadata": {},
   "outputs": [],
   "source": [
    "def parse_positions(positions: list) -> list[tuple]:\n",
    "    \"\"\"Return paramater positions as a list of tuples so we can use add_agents method.\"\"\"\n",
    "    pass    \n",
    "\n",
    "\n",
    "def initialize_starting_positions(car_amount) -> list[tuple]:\n",
    "    \"\"\"Return a list of tuples as starting position for cars.\"\"\"\n",
    "    pass"
   ]
  },
  {
   "cell_type": "code",
   "execution_count": null,
   "metadata": {},
   "outputs": [],
   "source": [
    "class TrafficFlowModel(ap.Model):\n",
    "\n",
    "    def setup(self):\n",
    "        # Create grid from parameters (street)\n",
    "        self.grid = ap.Grid(self, shape=(self.p.x_size, self.p.z_size), track_empty=True)\n",
    "\n",
    "        if self.p.cars_pos:\n",
    "            # Initialize model with existing car positions\n",
    "            self.agents = ap.AgentList(self, len(self.p.cars_pos), Car) \n",
    "            self.positions = parse_positions(positions=self.p.cars_pos)\n",
    "            self.grid.add_agents(self.agents, positions=self.positions)\n",
    "            self.agents.setup_pos(self.grid)\n",
    "\n",
    "\n",
    "        elif self.p.car_amount:\n",
    "            # Initialize new model with amount of car parameter\n",
    "            # Set up agents (cars)\n",
    "\n",
    "            self.agents = ap.AgentList(self, self.p.car_amount, Car)\n",
    "            self.positions = initialize_starting_positions(car_amount=self.p.car_amount)\n",
    "            self.grid.add_agents(self.agents, positions=self.positions)\n",
    "            self.agents.setup_pos(self.grid)\n",
    "\n",
    "        else:\n",
    "            # Stop simulation and return error\n",
    "            pass\n",
    "\n",
    "\n",
    "    def step(self):\n",
    "        \n",
    "        # Update velocity and position for cars in every step\n",
    "\n",
    "        # Check if any of the cars have a car nearby. If so, update agent.close_car to True\n",
    "\n",
    "        # Update VSL value depending on density of cars in one specific area in grid.\n",
    "        \n",
    "        pass\n",
    "\n",
    "\n",
    "    def calculate_VSL(self):\n",
    "        # Calculate VSL inside a specific range\n",
    "        pass\n",
    "        "
   ]
  },
  {
   "cell_type": "code",
   "execution_count": null,
   "metadata": {},
   "outputs": [],
   "source": [
    "parameters_existing = {\n",
    "    \"steps\": 10,\n",
    "    \"x_size\": 10,\n",
    "    \"z_size\": 15,\n",
    "    \"cars_pos\": [\n",
    "        {\n",
    "            \"id\": 1,\n",
    "            \"x\": 2,\n",
    "            \"z\": 3,\n",
    "        },\n",
    "        {\n",
    "            \"id\": 2,\n",
    "            \"x\": 4,\n",
    "            \"z\": 3,\n",
    "        },\n",
    "        {\n",
    "            \"id\": 3,\n",
    "            \"x\": 6,\n",
    "            \"z\": 3,\n",
    "        }\n",
    "    ]\n",
    "}\n",
    "\n",
    "parameters_new = {\n",
    "    \"steps\": 10,\n",
    "    \"car_amount\": 20,\n",
    "    \"x_size\": 10,\n",
    "    \"z_size\": 15,\n",
    "}"
   ]
  }
 ],
 "metadata": {
  "kernelspec": {
   "display_name": "Python 3.10.8 64-bit (microsoft store)",
   "language": "python",
   "name": "python3"
  },
  "language_info": {
   "name": "python",
   "version": "3.10.8"
  },
  "orig_nbformat": 4,
  "vscode": {
   "interpreter": {
    "hash": "8b419f2745ced80709f970aa58fc262c09420f537e0ff92840369b421eb3f761"
   }
  }
 },
 "nbformat": 4,
 "nbformat_minor": 2
}
